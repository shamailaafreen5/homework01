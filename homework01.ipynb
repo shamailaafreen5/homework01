{
 "cells": [
  {
   "cell_type": "markdown",
   "metadata": {},
   "source": [
    "# HomeWork_01_CI280_Shamaila_Afreen\n",
    "email to : Jzhang@eastwest.edu\n",
    "Course : CI280"
   ]
  },
  {
   "cell_type": "code",
   "execution_count": 1,
   "metadata": {},
   "outputs": [
    {
     "name": "stdout",
     "output_type": "stream",
     "text": [
      "Enter future value: 10000\n",
      "Enter interest value: 2.5\n",
      "Enter a year: 5\n",
      "Present value: $ 19.04\n"
     ]
    }
   ],
   "source": [
    "# PROBLEM 1\n",
    "\n",
    "# Input (1 point)\n",
    "future_value = 0\n",
    "present_value = 0 \n",
    "years = 0\n",
    "\n",
    "future_value = float(input(\"Enter future value: \"))\n",
    "interest_rate = float(input(\"Enter interest value: \"))\n",
    "years = int(input(\"Enter a year: \"))\n",
    "\n",
    "# Compute (1 point)\n",
    "present_value = future_value / (1.0 + interest_rate) ** years\n",
    "\n",
    "# Output \n",
    "print('Present value: $', format(present_value, \".2f\"))"
   ]
  },
  {
   "cell_type": "code",
   "execution_count": 2,
   "metadata": {},
   "outputs": [
    {
     "name": "stdout",
     "output_type": "stream",
     "text": [
      "Enter number of packages purchased: 25\n",
      "===Summary=========\n",
      "Number of packages purchased:  25\n",
      "Discount rate:  20.0%\n",
      "Original cost: $ 2475\n",
      "Cost after discount: $ 1980.0\n",
      "Your discount saving: $ 495.0\n"
     ]
    }
   ],
   "source": [
    "# problem 2\n",
    "# Get input\n",
    "retail_price= 99\n",
    "quantity = int(input(\"Enter number of packages purchased: \"))\n",
    "\n",
    "# Compute\n",
    "if quantity < 10:\n",
    "    discount = 0\n",
    "elif quantity < 20:\n",
    "    discount = 0.10\n",
    "elif quantity < 50:\n",
    "    discount = 0.20\n",
    "elif quantity < 100:\n",
    "    discount = 0.30\n",
    "else:\n",
    "    discount = 0.40\n",
    "    \n",
    "subtotal = retail_price * quantity\n",
    "total_discount = subtotal * discount\n",
    "total = subtotal - total_discount\n",
    "\n",
    "print('===Summary=========')\n",
    "print(\"Number of packages purchased: \", quantity)\n",
    "print(\"Discount rate: \", format(discount, \".1%\"))\n",
    "print(\"Original cost: $\", format(subtotal))\n",
    "print(\"Cost after discount: $\", format(total, \".1f\"))\n",
    "print(\"Your discount saving: $\", format(total_discount, \".1f\"))"
   ]
  },
  {
   "cell_type": "code",
   "execution_count": 3,
   "metadata": {},
   "outputs": [
    {
     "name": "stdout",
     "output_type": "stream",
     "text": [
      "Projected Tuition for the next five years\n",
      "Year \t\t Tuition\n",
      "--------------------------\n",
      "1 \t\t $ 8000.0\n",
      "2 \t\t $ 8240.0\n",
      "3 \t\t $ 8487.2\n",
      "4 \t\t $ 8741.8\n",
      "5 \t\t $ 9004.1\n"
     ]
    }
   ],
   "source": [
    "#problem 3\n",
    "INT_TUITION = 8000\n",
    "INCREASE_RATE = 0.03\n",
    "tuition = 0\n",
    "Years = 5\n",
    "    \n",
    "print('Projected Tuition for the next five years')\n",
    "print('Year \\t\\t Tuition')\n",
    "print('--------------------------')\n",
    "\n",
    "for Years in range(0, Years):\n",
    "    tuition = INT_TUITION * (1+INCREASE_RATE)** Years\n",
    "    print(format(Years+1),'\\t\\t $',format(tuition, \".1f\"))"
   ]
  },
  {
   "cell_type": "code",
   "execution_count": 4,
   "metadata": {},
   "outputs": [
    {
     "name": "stdout",
     "output_type": "stream",
     "text": [
      "1.127659574468085\n",
      "1.0661157024793388\n",
      "1.0076289901626179\n"
     ]
    }
   ],
   "source": [
    "# problem 4\n",
    "import random\n",
    "\n",
    "# Define the function here\n",
    "def countNo(x):\n",
    "    even = 0\n",
    "    odd = 0\n",
    "    for i in range(1,x+1):\n",
    "        num = random.randint(0,100)\n",
    "        if num%2 == 0:\n",
    "            even=even+1\n",
    "        else:\n",
    "            odd=odd+1\n",
    "    return even,odd\n",
    "\n",
    "#For 100 random numbers\n",
    "x=100\n",
    "even,odd=countNo(x)\n",
    "print(float(even/odd))\n",
    "\n",
    "#For 1000 random numbers\n",
    "x=1000\n",
    "even,odd=countNo(x)\n",
    "print(float(even/odd))\n",
    "\n",
    "#For 10000 random numbers\n",
    "x=10000\n",
    "even,odd=countNo(x)\n",
    "print(float(even/odd))"
   ]
  },
  {
   "cell_type": "code",
   "execution_count": null,
   "metadata": {},
   "outputs": [],
   "source": []
  }
 ],
 "metadata": {
  "kernelspec": {
   "display_name": "Python 3",
   "language": "python",
   "name": "python3"
  },
  "language_info": {
   "codemirror_mode": {
    "name": "ipython",
    "version": 3
   },
   "file_extension": ".py",
   "mimetype": "text/x-python",
   "name": "python",
   "nbconvert_exporter": "python",
   "pygments_lexer": "ipython3",
   "version": "3.8.3"
  }
 },
 "nbformat": 4,
 "nbformat_minor": 4
}
